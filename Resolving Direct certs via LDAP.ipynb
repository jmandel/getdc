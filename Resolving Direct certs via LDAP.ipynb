{
 "metadata": {
  "name": "",
  "signature": "sha256:9fdfb55e43d99867f0932e3f9659fd136f111f1da99b12991f4824fec2c2e271"
 },
 "nbformat": 3,
 "nbformat_minor": 0,
 "worksheets": [
  {
   "cells": [
    {
     "cell_type": "markdown",
     "metadata": {},
     "source": [
      "# Setup\n",
      "    $ sudo apt-get install -y python-dev libldap2-dev libsasl2-dev libssl-dev &&  pip install python-ldap\n",
      "\n"
     ]
    },
    {
     "cell_type": "code",
     "collapsed": false,
     "input": [
      "import dns.query\n",
      "import dns.resolver\n",
      "import ldap\n",
      "from  OpenSSL import crypto \n",
      "\n",
      "endpoint = \"domain2.demo.direct-test.com\"\n",
      "\n",
      "ldap_servers = dns.resolver.query(\"_ldap._tcp.\"+endpoint, 'SRV').response.answer[0].items\n",
      "\n",
      "servers = [{\n",
      "  'port': s.port, \n",
      "  'priority': s.priority,\n",
      "  'host': s.target.to_text()\n",
      "} for s in ldap_servers]\n",
      "\n",
      "ldap_results = []\n",
      "\n",
      "for s in servers:\n",
      "    url = \"ldap://%(host)s:%(port)s\"%s\n",
      "    l = ldap.initialize(url)\n",
      "    result_id  = l.search(\"\", ldap.SCOPE_SUBTREE, \"mail=%s\"%endpoint, None)\n",
      "    while True:\n",
      "        rtype, rdata = l.result(result_id, 0)\n",
      "        if rdata == []: break\n",
      "        ldap_results.append((rtype, rdata))\n",
      "\n",
      "# Only take valid results\n",
      "ldap_results = filter(lambda r: r[0] == 100, ldap_results)\n",
      "\n",
      "# Extract binary (DER) certs from responses\n",
      "cert_ders = [\"\".join(r[1][0][1]['userCertificate']) for r in ldap_results]\n",
      "\n",
      "# Convert to PEM\n",
      "cert_pems = [\n",
      "    crypto.dump_certificate(\n",
      "        crypto.FILETYPE_PEM,\n",
      "        crypto.load_certificate(\n",
      "            crypto.FILETYPE_ASN1,\n",
      "            der))\n",
      "    for der in cert_ders] \n",
      "\n",
      "\n",
      "for p in cert_pems:\n",
      "    print p\n",
      "    "
     ],
     "language": "python",
     "metadata": {},
     "outputs": [
      {
       "output_type": "stream",
       "stream": "stdout",
       "text": [
        "-----BEGIN CERTIFICATE-----\n",
        "MIICJzCCAZCgAwIBAgIIFU549eqDoXYwDQYJKoZIhvcNAQEFBQAwIjEgMB4GA1UE\n",
        "AwwXZGVtby5kaXJlY3QtdGVzdC5jb21fY2EwHhcNMTMwNTA1MTYzMzA4WhcNMTMw\n",
        "NTA1MTYzMzA4WjASMRAwDgYDVQQDDAdEM19pbnZEMIGfMA0GCSqGSIb3DQEBAQUA\n",
        "A4GNADCBiQKBgQCLPvvMcCtcCVAeG/lWPvLug6hVfx3HcCxO0W9xxHwKxl1Qo3qd\n",
        "NFvtRKnjSOfR6vi7byVLiARshMi9xrscZxVWTfmIgw9wdYheIbrqN136AEQ10gfq\n",
        "RmloxzlbcR/6pGSaZX62ZCsCk5kHA0q5r6jPWBTjSDPV6ERjWutKyk2YlwIDAQAB\n",
        "o3YwdDAJBgNVHRMEAjAAMB8GA1UdIwQYMBaAFDwSTA4UC7TE98p49wpT687oG0aH\n",
        "MB0GA1UdDgQWBBSkxYV2rqFvJ8cXYN92HJFqoC4geTAnBgNVHREEIDAeghxkb21h\n",
        "aW4yLmRlbW8uZGlyZWN0LXRlc3QuY29tMA0GCSqGSIb3DQEBBQUAA4GBACf1EsDd\n",
        "7R/tp/EZ+Cut10RJVIIXjFJRqcieeaKvzFvlnj7QhZDxvI+iMQreCsul62eoHoXf\n",
        "cV3kXFSHGzAgU5q/s2/xeO088LgtGS/96I8ExyR4PLeMrgzQXmXJK2C11x8Xe7o1\n",
        "sFh1CfqiLz5uxSoeqaDqLrMCmNUmxwf+z73X\n",
        "-----END CERTIFICATE-----\n",
        "\n",
        "-----BEGIN CERTIFICATE-----\n",
        "MIICKTCCAZKgAwIBAgIIcwkHJQip3fUwDQYJKoZIhvcNAQEFBQAwIjEgMB4GA1UE\n",
        "AwwXZGVtby5kaXJlY3QtdGVzdC5jb21fY2EwIBcNMTQwNTA1MTYzMzA4WhgPMjEx\n",
        "NDA1MDUxNjMzMDhaMBIxEDAOBgNVBAMMB0Q0X3ZhbEQwgZ8wDQYJKoZIhvcNAQEB\n",
        "BQADgY0AMIGJAoGBAImpKJImByQEORn0ZD9I8GHd9eABHlafnAFZpU8FTPD/ayKl\n",
        "qXi+lVHpIhjOPpXY4YQWXbNA4p1udcnv7A6fX7/QyKJAVQJlyWWGXp0SAZj5vkab\n",
        "vPzZqixC1+QeK5+d5a9vU74nQ82TcQFu/o2MQWAR79EKpI0bLHQFaJABcDoFAgMB\n",
        "AAGjdjB0MAkGA1UdEwQCMAAwHwYDVR0jBBgwFoAUPBJMDhQLtMT3ynj3ClPrzugb\n",
        "RocwHQYDVR0OBBYEFFMRsP5rae0noeftT1g7/yyIRaYxMCcGA1UdEQQgMB6CHGRv\n",
        "bWFpbjIuZGVtby5kaXJlY3QtdGVzdC5jb20wDQYJKoZIhvcNAQEFBQADgYEACgql\n",
        "Lg3V/jLD1WtzkrIffEJsoDpBfi02uc0nl8UnKzAy49UDaTVpc/y+zdfH+mWQo09c\n",
        "Gffqm9g6D5OEQTTRxxbsGY44tljbCArnlaims0CO5Z2Uv3ryyLc8nv7WKzIqgdAB\n",
        "yAx4KP9BHx/Ehmq7fVeAlnwYcVbRFM/Uekf+vCs=\n",
        "-----END CERTIFICATE-----\n",
        "\n"
       ]
      }
     ],
     "prompt_number": 1
    },
    {
     "cell_type": "code",
     "collapsed": false,
     "input": [],
     "language": "python",
     "metadata": {},
     "outputs": []
    }
   ],
   "metadata": {}
  }
 ]
}